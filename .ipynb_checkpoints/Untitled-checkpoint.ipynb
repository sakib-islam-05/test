{
 "cells": [
  {
   "cell_type": "code",
   "execution_count": 9,
   "id": "c02cdda2-1c91-444d-93da-a69f099722c2",
   "metadata": {},
   "outputs": [
    {
     "name": "stdout",
     "output_type": "stream",
     "text": [
      "[1 2 3 4]\n",
      "1\n",
      "<class 'numpy.ndarray'>\n"
     ]
    }
   ],
   "source": [
    "import numpy as np\n",
    "x=[1,2,3,4]\n",
    "y = np.array(x) # list to array\n",
    "print(y)\n",
    "print(y.ndim) # which dimentional array\n",
    "print(type(y))\n"
   ]
  },
  {
   "cell_type": "code",
   "execution_count": 5,
   "id": "224f0e58-e5d1-44ca-beee-0e678a852fbb",
   "metadata": {},
   "outputs": [
    {
     "name": "stdin",
     "output_type": "stream",
     "text": [
      "Enter: 12\n",
      "Enter: 13\n",
      "Enter: 21\n",
      "Enter: 34\n"
     ]
    },
    {
     "name": "stdout",
     "output_type": "stream",
     "text": [
      "[12 13 21 34]\n"
     ]
    }
   ],
   "source": [
    "l=[]\n",
    "for x in range(0,4):\n",
    "    item=int(input('Enter:'))\n",
    "    l.append(item)\n",
    "print(np.array(l))\n",
    "    "
   ]
  },
  {
   "cell_type": "code",
   "execution_count": 11,
   "id": "32e0e63e-4373-4ed9-8f3a-31754d65f991",
   "metadata": {},
   "outputs": [
    {
     "name": "stdout",
     "output_type": "stream",
     "text": [
      "[[1 2 3 4]\n",
      " [1 2 3 4]]\n",
      "2\n"
     ]
    }
   ],
   "source": [
    "ar2=np.array([[1,2,3,4],[1,2,3,4]])\n",
    "print(ar2)\n",
    "print(ar2.ndim)"
   ]
  },
  {
   "cell_type": "code",
   "execution_count": 13,
   "id": "bca96c13-a4c3-40e8-84fe-b83081ffa58d",
   "metadata": {},
   "outputs": [
    {
     "name": "stdout",
     "output_type": "stream",
     "text": [
      "[[[1 2 3 4]\n",
      "  [1 2 3 4]]]\n",
      "3\n"
     ]
    }
   ],
   "source": [
    "ar3=np.array([[[1,2,3,4],[1,2,3,4]]])\n",
    "print(ar3)\n",
    "print(ar3.ndim)"
   ]
  },
  {
   "cell_type": "code",
   "execution_count": 19,
   "id": "52e47e9d-eb64-4db0-8ed7-b06905555271",
   "metadata": {},
   "outputs": [
    {
     "name": "stdout",
     "output_type": "stream",
     "text": [
      "[[[[[[[[[[1 2 3 4]]]]]]]]]]\n",
      "10\n"
     ]
    }
   ],
   "source": [
    "arm=np.array([1,2,3,4],ndmin=10) # \"ndmin\" refers how many dimentions of array you want\n",
    "print(arm)\n",
    "print(arm.ndim)"
   ]
  },
  {
   "cell_type": "markdown",
   "id": "24bc9d81-6651-4048-9fd3-bb57cdcaab73",
   "metadata": {},
   "source": [
    "# ZEROS"
   ]
  },
  {
   "cell_type": "code",
   "execution_count": 32,
   "id": "15ed1472-ba1d-4181-a3dd-7814ad2554f8",
   "metadata": {},
   "outputs": [
    {
     "name": "stdout",
     "output_type": "stream",
     "text": [
      "[0. 0. 0. 0.]\n",
      "\n",
      "[[0. 0. 0. 0.]\n",
      " [0. 0. 0. 0.]\n",
      " [0. 0. 0. 0.]]\n"
     ]
    }
   ],
   "source": [
    "ar_zero = np.zeros(4) # np.zeros(no_of_columns)\n",
    "ar_zero1=np.zeros((3,4)) # np.zeros((no_of_rows,no_of_columns))\n",
    "print(ar_zero)\n",
    "print()\n",
    "print(ar_zero1)"
   ]
  },
  {
   "cell_type": "markdown",
   "id": "77b11c8d-f47e-4509-8419-2cce270688ab",
   "metadata": {},
   "source": [
    "# ONES"
   ]
  },
  {
   "cell_type": "code",
   "execution_count": 36,
   "id": "a9b917b2-bae3-4595-a837-51fe5a977646",
   "metadata": {},
   "outputs": [
    {
     "name": "stdout",
     "output_type": "stream",
     "text": [
      "[1. 1. 1. 1.]\n",
      "\n",
      "[[1. 1. 1. 1.]\n",
      " [1. 1. 1. 1.]\n",
      " [1. 1. 1. 1.]]\n"
     ]
    }
   ],
   "source": [
    "ar_one = np.ones(4) # np.ones(no_of_columns)\n",
    "ar_one1 = np.ones((3,4)) # np.ones((no_of_rows,no_of_columns))\n",
    "print(ar_one)\n",
    "print()\n",
    "print(ar_one1)"
   ]
  },
  {
   "cell_type": "markdown",
   "id": "3afcbb4a-c9ec-4b00-8f03-9c89dbdf67c5",
   "metadata": {},
   "source": [
    "# EMPTY"
   ]
  },
  {
   "cell_type": "code",
   "execution_count": 39,
   "id": "431cd5b5-4975-4b1e-a0de-99d170b31b8c",
   "metadata": {},
   "outputs": [
    {
     "name": "stdout",
     "output_type": "stream",
     "text": [
      "[1. 1. 1. 1.]\n"
     ]
    }
   ],
   "source": [
    "ar_empty = np.empty(4) # np.empty(no_of_columns)\n",
    "print(ar_empty)"
   ]
  },
  {
   "cell_type": "markdown",
   "id": "0f822dcd-554b-46f7-9865-70ad460c8bad",
   "metadata": {},
   "source": [
    "# ARANGE"
   ]
  },
  {
   "cell_type": "code",
   "execution_count": 49,
   "id": "60475b40-22e7-485c-978f-0b22264fe008",
   "metadata": {},
   "outputs": [
    {
     "name": "stdout",
     "output_type": "stream",
     "text": [
      "[0 1 2 3]\n"
     ]
    }
   ],
   "source": [
    "ar_arange = np.arange(0,4) # np.arange(like python range function)\n",
    "print(ar_arange)"
   ]
  },
  {
   "cell_type": "markdown",
   "id": "936e0811-b9cd-400f-8e7a-5a4ffe48c504",
   "metadata": {},
   "source": [
    "# DIAGONAL"
   ]
  },
  {
   "cell_type": "code",
   "execution_count": 52,
   "id": "14ae0ff9-15e3-440b-801e-bf13b5f2bd97",
   "metadata": {},
   "outputs": [
    {
     "name": "stdout",
     "output_type": "stream",
     "text": [
      "[[1. 0. 0.]\n",
      " [0. 1. 0.]\n",
      " [0. 0. 1.]]\n"
     ]
    }
   ],
   "source": [
    "ar_dia=np.eye(3) # 3*3 diagonal array\n",
    "print(ar_dia)"
   ]
  },
  {
   "cell_type": "code",
   "execution_count": 56,
   "id": "aec7e0a6-f70b-4540-a0f2-cf30d7a2a9f8",
   "metadata": {},
   "outputs": [
    {
     "name": "stdout",
     "output_type": "stream",
     "text": [
      "[[1. 0. 0. 0. 0.]\n",
      " [0. 1. 0. 0. 0.]\n",
      " [0. 0. 1. 0. 0.]]\n"
     ]
    }
   ],
   "source": [
    "ar_dia1=np.eye(3,5) # 3*5 diagonal array\n",
    "print(ar_dia1)"
   ]
  },
  {
   "cell_type": "markdown",
   "id": "28d11d3d-2de3-4fb1-b2f2-ed32cab7adb8",
   "metadata": {},
   "source": [
    "# LINSPACE"
   ]
  },
  {
   "cell_type": "code",
   "execution_count": 66,
   "id": "4f9b4806-6196-426f-a2ef-5bc2540a9383",
   "metadata": {},
   "outputs": [
    {
     "name": "stdout",
     "output_type": "stream",
     "text": [
      "[ 0.  5. 10. 15. 20.]\n"
     ]
    }
   ],
   "source": [
    "ar_lins=np.linspace(0,20,num=5) # linspace(from where start,end ,num= how many numbers)\n",
    "print(ar_lins)"
   ]
  },
  {
   "cell_type": "markdown",
   "id": "ccc9a8cc-5e53-45df-a28d-f8959c77be62",
   "metadata": {},
   "source": [
    "# RANDOM"
   ]
  },
  {
   "cell_type": "markdown",
   "id": "dee6fb2e-afe7-4cf9-90c2-f693751d6075",
   "metadata": {},
   "source": [
    "# rand() [a random value between 0 to 1]"
   ]
  },
  {
   "cell_type": "code",
   "execution_count": 11,
   "id": "717370cd-e73d-416c-ab31-db639530644d",
   "metadata": {},
   "outputs": [
    {
     "name": "stdout",
     "output_type": "stream",
     "text": [
      "[0.25555404 0.33241359 0.26494883 0.0920351 ]\n"
     ]
    }
   ],
   "source": [
    "import numpy as np\n",
    "var= np.random.rand(4)\n",
    "print(var)"
   ]
  },
  {
   "cell_type": "code",
   "execution_count": 72,
   "id": "6dbed690-31ad-4411-81d3-b04d67c089cb",
   "metadata": {},
   "outputs": [
    {
     "name": "stdout",
     "output_type": "stream",
     "text": [
      "[[0.94279935 0.86937217 0.85414081 0.35940955]\n",
      " [0.57855432 0.95146724 0.32931429 0.1720487 ]]\n"
     ]
    }
   ],
   "source": [
    "var1=np.random.rand(2,4)\n",
    "print(var1)"
   ]
  },
  {
   "cell_type": "markdown",
   "id": "fe2fd936-ca00-4968-9d4f-ceedb9f136ce",
   "metadata": {},
   "source": [
    "# randn() [close to 0 ; it will provide both negative & positive values]"
   ]
  },
  {
   "cell_type": "code",
   "execution_count": 77,
   "id": "00f5136e-954a-45fa-916d-428f3113e318",
   "metadata": {},
   "outputs": [
    {
     "name": "stdout",
     "output_type": "stream",
     "text": [
      "[ 0.3909364   0.52506166 -0.47344268 -1.74577756]\n"
     ]
    }
   ],
   "source": [
    "var2=np.random.randn(4)\n",
    "print(var2)"
   ]
  },
  {
   "cell_type": "markdown",
   "id": "6cd78ce6-005d-4035-8613-35287750de4d",
   "metadata": {},
   "source": [
    "# ranf() [close to 0; half open interval ,[0.0,1.0)]"
   ]
  },
  {
   "cell_type": "code",
   "execution_count": 13,
   "id": "8eacea91-e0be-4e0b-bb9e-9b4467171f7c",
   "metadata": {},
   "outputs": [
    {
     "name": "stdout",
     "output_type": "stream",
     "text": [
      "[0.82092463 0.99822474 0.53218797 0.07651466]\n"
     ]
    }
   ],
   "source": [
    "var3= np.random.ranf(4)\n",
    "print(var3)"
   ]
  },
  {
   "cell_type": "markdown",
   "id": "b200f733-d0e1-4fc6-96b0-97b5fa956d2e",
   "metadata": {},
   "source": [
    "# randint(min,max,total)"
   ]
  },
  {
   "cell_type": "code",
   "execution_count": 15,
   "id": "1f31c38e-b54c-4b02-87be-d5105398f588",
   "metadata": {},
   "outputs": [
    {
     "name": "stdout",
     "output_type": "stream",
     "text": [
      "[ 9 12 12 16 18]\n"
     ]
    }
   ],
   "source": [
    "var4=np.random.randint(8,20,5) # pick 5 random values from 8 to 20\n",
    "print(var4)"
   ]
  },
  {
   "cell_type": "markdown",
   "id": "17860859-846f-4892-bf8c-cc01f9ec3f74",
   "metadata": {},
   "source": [
    "# DATA TYPE"
   ]
  },
  {
   "cell_type": "code",
   "execution_count": 19,
   "id": "5d0dd42f-f563-42e0-8354-3af3ccc350c8",
   "metadata": {},
   "outputs": [
    {
     "name": "stdout",
     "output_type": "stream",
     "text": [
      "Data Type: int32\n"
     ]
    }
   ],
   "source": [
    "var=np.array([1,2,3,15,20])\n",
    "print('Data Type:',var.dtype)"
   ]
  },
  {
   "cell_type": "code",
   "execution_count": 4,
   "id": "072a4210-79ca-4c3f-afa3-de7f38ce81fb",
   "metadata": {},
   "outputs": [
    {
     "name": "stdout",
     "output_type": "stream",
     "text": [
      "Data Type: float64\n"
     ]
    }
   ],
   "source": [
    "import numpy as np\n",
    "var=np.array([1.2,2.1,3.5,15.1,20.0])\n",
    "print('Data Type:',var.dtype)"
   ]
  },
  {
   "cell_type": "code",
   "execution_count": 25,
   "id": "064a7a4f-b20e-4ea3-bd44-6e7119eed5d1",
   "metadata": {},
   "outputs": [
    {
     "name": "stdout",
     "output_type": "stream",
     "text": [
      "Data Type: <U1\n"
     ]
    }
   ],
   "source": [
    "var=np.array(['a','b','c'])\n",
    "print('Data Type:',var.dtype) # string"
   ]
  },
  {
   "cell_type": "code",
   "execution_count": 31,
   "id": "7c7e3dcc-9222-43a6-ab3d-3433d25b8ac3",
   "metadata": {},
   "outputs": [
    {
     "name": "stdout",
     "output_type": "stream",
     "text": [
      "Data Type: <U11\n"
     ]
    }
   ],
   "source": [
    "var=np.array([1,2,3,15,20,'a','b'])\n",
    "print('Data Type:',var.dtype) # int & float"
   ]
  },
  {
   "cell_type": "code",
   "execution_count": 35,
   "id": "007882af-78d3-46d6-bd8d-8f676b122ec0",
   "metadata": {},
   "outputs": [
    {
     "name": "stdout",
     "output_type": "stream",
     "text": [
      "Data Type: int8\n",
      "[1 2 3 4]\n"
     ]
    }
   ],
   "source": [
    "x= np.array([1,2,3,4],dtype=np.int8) # convert int32 to int8\n",
    "print('Data Type:',x.dtype)\n",
    "print(x)"
   ]
  },
  {
   "cell_type": "code",
   "execution_count": 39,
   "id": "af8efce5-3694-406c-ab09-162e413f4f65",
   "metadata": {},
   "outputs": [
    {
     "name": "stdout",
     "output_type": "stream",
     "text": [
      "Data Type: float32\n",
      "[1. 2. 3. 4.]\n"
     ]
    }
   ],
   "source": [
    "x1= np.array([1,2,3,4],dtype='f') # convert int32 to float\n",
    "print('Data Type:',x1.dtype)\n",
    "print(x1)"
   ]
  },
  {
   "cell_type": "code",
   "execution_count": 45,
   "id": "fc49e1fb-2a3b-4e23-b54f-f2ea9cd6bad4",
   "metadata": {},
   "outputs": [
    {
     "name": "stdout",
     "output_type": "stream",
     "text": [
      "Data Type: int32\n",
      "[1 2 3 4]\n",
      "Data Type: float32\n",
      "[1. 2. 3. 4.]\n"
     ]
    }
   ],
   "source": [
    "x2= np.array([1,2,3,4])\n",
    "new = np.float32(x2) # convert int to float using float()\n",
    "print('Data Type:',x2.dtype)\n",
    "print(x2)\n",
    "print('Data Type:',new.dtype)\n",
    "print(new)"
   ]
  },
  {
   "cell_type": "code",
   "execution_count": 47,
   "id": "e8bf215c-38f2-4f63-8705-ed5cd60e6f6d",
   "metadata": {},
   "outputs": [
    {
     "name": "stdout",
     "output_type": "stream",
     "text": [
      "Data Type: int32\n",
      "[1 2 3 4]\n",
      "Data Type: float32\n",
      "[1. 2. 3. 4.]\n",
      "Data Type: int32\n",
      "[1 2 3 4]\n"
     ]
    }
   ],
   "source": [
    "x2= np.array([1,2,3,4]) \n",
    "new = np.float32(x2)\n",
    "new_one=np.int_(new)\n",
    "print('Data Type:',x2.dtype)\n",
    "print(x2)\n",
    "print('Data Type:',new.dtype)\n",
    "print(new)\n",
    "print('Data Type:',new_one.dtype)\n",
    "print(new_one)"
   ]
  },
  {
   "cell_type": "code",
   "execution_count": 53,
   "id": "8bb07dc4-efd4-4067-87f1-6eeb18e54ddb",
   "metadata": {},
   "outputs": [
    {
     "name": "stdout",
     "output_type": "stream",
     "text": [
      "int32\n",
      "[1 2 3 4]\n",
      "float64\n",
      "[1. 2. 3. 4.]\n"
     ]
    }
   ],
   "source": [
    "x3=np.array([1,2,3,4])\n",
    "new_1=x3.astype(float) # convert int to float astype()\n",
    "print(x3.dtype)\n",
    "print(x3)\n",
    "print(new_1.dtype)\n",
    "print(new_1)"
   ]
  },
  {
   "cell_type": "markdown",
   "id": "24bc6290-d927-40a6-b5e8-336999916079",
   "metadata": {},
   "source": [
    "# SHAPE"
   ]
  },
  {
   "cell_type": "code",
   "execution_count": 15,
   "id": "fc379f4c-a5b6-4c5d-b45f-eeccdede2202",
   "metadata": {},
   "outputs": [
    {
     "name": "stdout",
     "output_type": "stream",
     "text": [
      "[[1 2]\n",
      " [1 2]]\n",
      "\n",
      "(2, 2)\n"
     ]
    }
   ],
   "source": [
    "var=np.array([[1,2],[1,2]])\n",
    "print(var)\n",
    "print()\n",
    "print(var.shape)"
   ]
  },
  {
   "cell_type": "code",
   "execution_count": 17,
   "id": "c74cb2b3-e59c-43b6-bfc8-688cab109c4e",
   "metadata": {},
   "outputs": [
    {
     "name": "stdout",
     "output_type": "stream",
     "text": [
      "[[1 2 3 4]\n",
      " [1 2 3 4]]\n",
      "\n",
      "(2, 4)\n"
     ]
    }
   ],
   "source": [
    "var=np.array([[1,2,3,4],[1,2,3,4]])\n",
    "print(var)\n",
    "print()\n",
    "print(var.shape)"
   ]
  },
  {
   "cell_type": "code",
   "execution_count": 25,
   "id": "818eb96d-09f9-4efc-b09c-f07cf5952c3b",
   "metadata": {},
   "outputs": [
    {
     "name": "stdout",
     "output_type": "stream",
     "text": [
      "[[[[1 2 3 4]]]]\n",
      "4\n",
      "\n",
      "(1, 1, 1, 4)\n"
     ]
    }
   ],
   "source": [
    "var=np.array([1,2,3,4],ndmin=4)\n",
    "print(var)\n",
    "print(var.ndim)\n",
    "print()\n",
    "print(var.shape) # output: rows,rows,rows.columns(4D array)"
   ]
  },
  {
   "cell_type": "markdown",
   "id": "07442850-1888-41eb-808d-3293d4d55995",
   "metadata": {},
   "source": [
    "# RESHAPE"
   ]
  },
  {
   "cell_type": "markdown",
   "id": "070d5b6f-f198-4cd5-94ff-686558425298",
   "metadata": {},
   "source": []
  },
  {
   "cell_type": "code",
   "execution_count": 12,
   "id": "84cb2205-f6fd-4e56-b464-8c7466a9c2f6",
   "metadata": {},
   "outputs": [
    {
     "name": "stdout",
     "output_type": "stream",
     "text": [
      "[1 2 3 4]\n",
      "1\n",
      "\n",
      "[[1 2]\n",
      " [3 4]]\n",
      "2\n",
      "\n",
      "\n",
      "[1 2 3 4 5 6 7 8 9]\n",
      "1\n",
      "\n",
      "[[1 2 3]\n",
      " [4 5 6]\n",
      " [7 8 9]]\n",
      "2\n"
     ]
    }
   ],
   "source": [
    "import numpy as np\n",
    "\n",
    "var2=np.array([1,2,3,4])\n",
    "print(var2)\n",
    "print(var2.ndim)\n",
    "print()\n",
    "x=var2.reshape(2,2) # reshape(rows,columns) 2D ARRAY\n",
    "print(x)\n",
    "print(x.ndim)\n",
    "print()\n",
    "print()\n",
    "\n",
    "var2=np.array([1,2,3,4,5,6,7,8,9])\n",
    "print(var2)\n",
    "print(var2.ndim)\n",
    "print()\n",
    "x=var2.reshape(3,3)\n",
    "print(x)\n",
    "print(x.ndim)"
   ]
  },
  {
   "cell_type": "code",
   "execution_count": 16,
   "id": "ce7c9d92-6de9-4e37-bff6-afffa3a0fbff",
   "metadata": {},
   "outputs": [
    {
     "name": "stdout",
     "output_type": "stream",
     "text": [
      "[ 1  2  3  4  5  6  7  8  9 10 11 12]\n",
      "1\n",
      "\n",
      "[[[ 1  2]\n",
      "  [ 3  4]\n",
      "  [ 5  6]]\n",
      "\n",
      " [[ 7  8]\n",
      "  [ 9 10]\n",
      "  [11 12]]]\n",
      "3\n",
      "\n",
      "[ 1  2  3  4  5  6  7  8  9 10 11 12]\n",
      "1\n"
     ]
    }
   ],
   "source": [
    "var3=np.array([1,2,3,4,5,6,7,8,9,10,11,12])\n",
    "print(var3)\n",
    "print(var3.ndim)\n",
    "print()\n",
    "x1=var3.reshape(2,3,2) # reshape(no_of_matrix,rows,columns)\n",
    "print(x1)\n",
    "print(x1.ndim)\n",
    "print()\n",
    "one = x1.reshape(-1) # reshape to one dimentional array\n",
    "print(one)\n",
    "print(one.ndim)"
   ]
  },
  {
   "cell_type": "markdown",
   "id": "8d85548a-15ae-4953-8e8c-f1b1df008083",
   "metadata": {},
   "source": [
    "# ARITHMARIC OPERATION"
   ]
  },
  {
   "cell_type": "code",
   "execution_count": 23,
   "id": "6439f952-e202-4ee5-a66a-9b3764c8bc54",
   "metadata": {},
   "outputs": [
    {
     "name": "stdout",
     "output_type": "stream",
     "text": [
      "[4 5 6 7]\n",
      "\n",
      "[-2 -1  0  1]\n",
      "\n",
      "[ 3  6  9 12]\n",
      "\n",
      "[0.33333333 0.66666667 1.         1.33333333]\n",
      "\n",
      "[1 2 0 1]\n",
      "\n",
      "[2 4 6 8]\n"
     ]
    }
   ],
   "source": [
    "var=np.array([1,2,3,4])\n",
    "var_add=var+3\n",
    "print(var_add)\n",
    "print()\n",
    "var=np.array([1,2,3,4])\n",
    "var_add=var-3\n",
    "print(var_add)\n",
    "print()\n",
    "var=np.array([1,2,3,4])\n",
    "var_add=var*3\n",
    "print(var_add)\n",
    "print()\n",
    "var=np.array([1,2,3,4])\n",
    "var_add=var/3\n",
    "print(var_add)\n",
    "print()\n",
    "var=np.array([1,2,3,4])\n",
    "var_add=var%3\n",
    "print(var_add)\n",
    "print()\n",
    "var1=np.array([1,2,3,4])\n",
    "var_add=var+var1\n",
    "print(var_add)"
   ]
  },
  {
   "cell_type": "markdown",
   "id": "74e00b75-9bac-49c2-aa5f-b60593137544",
   "metadata": {},
   "source": [
    "### Arithmatic operation using function"
   ]
  },
  {
   "cell_type": "code",
   "execution_count": 36,
   "id": "9c886f24-1c15-4eda-9e69-88de240f9448",
   "metadata": {},
   "outputs": [
    {
     "name": "stdout",
     "output_type": "stream",
     "text": [
      "[2 4 6 8]\n",
      "\n",
      "[-2 -1  0  1]\n",
      "\n",
      "[ 3  6  9 12]\n",
      "\n",
      "[0.33333333 0.66666667 1.         1.33333333]\n",
      "\n",
      "[1 2 0 1]\n",
      "\n",
      "[ 1  8 27 64]\n",
      "\n",
      "[1 0 0 0]\n",
      "\n"
     ]
    }
   ],
   "source": [
    "var_add = np.add(var,var1)\n",
    "print(var_add)\n",
    "print()\n",
    "var_add = np.subtract(var,3)\n",
    "print(var_add)\n",
    "print()\n",
    "var_add = np.multiply(var,3)\n",
    "print(var_add)\n",
    "print()\n",
    "var_add = np.divide(var,3)\n",
    "print(var_add)\n",
    "print()\n",
    "var_add = np.mod(var,3)\n",
    "print(var_add)\n",
    "print()\n",
    "var_add = np.power(var,3)\n",
    "print(var_add)\n",
    "print()\n",
    "var_add = np.reciprocal(var) # 1/var\n",
    "print(var_add)\n",
    "print()"
   ]
  },
  {
   "cell_type": "markdown",
   "id": "01a71c94-ea84-44fc-bf3e-742aa5116976",
   "metadata": {},
   "source": [
    "## Arithmatic operation using 2D array"
   ]
  },
  {
   "cell_type": "code",
   "execution_count": 39,
   "id": "c76f4c08-2bda-4e5c-817c-48a7432eb38e",
   "metadata": {},
   "outputs": [
    {
     "name": "stdout",
     "output_type": "stream",
     "text": [
      "[[2 4 6 8]\n",
      " [2 4 6 8]]\n"
     ]
    }
   ],
   "source": [
    "var21=np.array([[1,2,3,4],[1,2,3,4]])\n",
    "var22=np.array([[1,2,3,4],[1,2,3,4]])\n",
    "var_add=np.add(var21,var22)\n",
    "print(var_add)"
   ]
  },
  {
   "cell_type": "markdown",
   "id": "69300207-7fcb-4754-8919-619a19c25bd3",
   "metadata": {},
   "source": [
    "## Arithmatic function"
   ]
  },
  {
   "cell_type": "code",
   "execution_count": 62,
   "id": "2f1d8cc6-20c3-4aff-966a-d354f14c1dcb",
   "metadata": {},
   "outputs": [
    {
     "name": "stdout",
     "output_type": "stream",
     "text": [
      "min: 1 index: 1\n",
      "max: 12 index: 2\n",
      "community_sum: [ 2  3 15 24]\n",
      "sqrt: [1.41421356 1.         3.46410162 3.        ]\n",
      "sin_values: [ 0.90929743  0.84147098 -0.53657292  0.41211849]\n",
      "cos_values: [-0.41614684  0.54030231  0.84385396 -0.91113026]\n"
     ]
    }
   ],
   "source": [
    "var1=np.array([2,1,12,9])\n",
    "print('min:',np.min(var1),'index:',np.argmin(var1)) # np.argmin(var1)=index of minimum value\n",
    "print('max:',np.max(var1),'index:',np.argmax(var1))\n",
    "print('community_sum:',np.cumsum(var1))\n",
    "print('sqrt:',np.sqrt(var1))\n",
    "print('sin_values:',np.sin(var1))\n",
    "print('cos_values:',np.cos(var1))\n"
   ]
  },
  {
   "cell_type": "markdown",
   "id": "c90f9574-65ad-44c6-b1ee-844835fcf494",
   "metadata": {},
   "source": [
    "### Arithmatic fuction using 2D array"
   ]
  },
  {
   "cell_type": "code",
   "execution_count": 6,
   "id": "c774af94-334b-46f2-92f2-410a0716df1d",
   "metadata": {},
   "outputs": [
    {
     "name": "stdout",
     "output_type": "stream",
     "text": [
      "min: [1 1 5]\n",
      "max: [5 9]\n"
     ]
    }
   ],
   "source": [
    "import numpy as np\n",
    "var2=np.array([[2,1,5],[1,5,9]])\n",
    "print('min:',np.min(var2,axis=0)) # axis=0 means column\n",
    "print('max:',np.max(var2,axis=1)) # axis =1 means row"
   ]
  },
  {
   "cell_type": "markdown",
   "id": "4a220128-d733-44b5-9bb7-786b4b155b30",
   "metadata": {},
   "source": [
    "# Broadcasting Numpy Array\n",
    "#### rules: 1. same dimension or 2. one of them should be 1"
   ]
  },
  {
   "cell_type": "code",
   "execution_count": 19,
   "id": "7c4399c6-f00b-487e-b184-2fdf8f2e529a",
   "metadata": {},
   "outputs": [
    {
     "name": "stdout",
     "output_type": "stream",
     "text": [
      "[1 2 3]\n",
      "(3,)\n",
      "\n",
      "[[1]\n",
      " [2]\n",
      " [3]]\n",
      "(3, 1)\n",
      "\n",
      "[[2 3 4]\n",
      " [3 4 5]\n",
      " [4 5 6]]\n"
     ]
    }
   ],
   "source": [
    "# (1*3) + (3*1) =(3*3)\n",
    "var1=np.array([1,2,3])\n",
    "print(var1)\n",
    "print(var1.shape)\n",
    "print()\n",
    "var2=np.array([[1],[2],[3]])\n",
    "print(var2)\n",
    "print(var2.shape)\n",
    "print()\n",
    "print(var1+var2)\n"
   ]
  },
  {
   "cell_type": "code",
   "execution_count": 21,
   "id": "e37284bc-4224-4191-8d3c-30fa22bef144",
   "metadata": {},
   "outputs": [
    {
     "name": "stdout",
     "output_type": "stream",
     "text": [
      "[[1]\n",
      " [2]]\n",
      "(2, 1)\n",
      "\n",
      "[[1 2 3]\n",
      " [1 2 3]]\n",
      "(2, 3)\n",
      "\n",
      "[[2 3 4]\n",
      " [3 4 5]]\n"
     ]
    }
   ],
   "source": [
    "# (2*1)+(2*3)=(2*3)\n",
    "var2=np.array([[1],[2]])\n",
    "print(var2)\n",
    "print(var2.shape)\n",
    "print()\n",
    "var3=np.array([[1,2,3],[1,2,3]])\n",
    "print(var3)\n",
    "print(var3.shape)\n",
    "print()\n",
    "print(var2+var3)"
   ]
  },
  {
   "cell_type": "markdown",
   "id": "87fc8a87-d08e-4fc1-a995-0bf1725eba14",
   "metadata": {},
   "source": [
    "# INDEXING"
   ]
  },
  {
   "cell_type": "markdown",
   "id": "3c676197-c7e3-40b6-894c-2bad6e68dab6",
   "metadata": {},
   "source": [
    "### 1D Array"
   ]
  },
  {
   "cell_type": "code",
   "execution_count": 35,
   "id": "f2131dec-9402-4ecd-8454-56d757fe4047",
   "metadata": {},
   "outputs": [
    {
     "name": "stdout",
     "output_type": "stream",
     "text": [
      "[1 2 3 4]\n",
      "1\n",
      "IN position_3: 3\n",
      "IN position_2: 2\n"
     ]
    }
   ],
   "source": [
    "var3=np.array([1,2,3,4])\n",
    "print(var3)\n",
    "print(var3.ndim)\n",
    "print('IN position_3:',var3[2])\n",
    "print('IN position_2:',var3[-3])"
   ]
  },
  {
   "cell_type": "markdown",
   "id": "abc38461-b1dd-4a7a-a540-1a0fda1d7476",
   "metadata": {},
   "source": [
    "### 2D Array"
   ]
  },
  {
   "cell_type": "code",
   "execution_count": 44,
   "id": "ca950d4a-f541-43a4-b418-7f32b55b6d79",
   "metadata": {},
   "outputs": [
    {
     "name": "stdout",
     "output_type": "stream",
     "text": [
      "[[1 2 3]\n",
      " [6 7 8]]\n",
      "2\n",
      "IN row1_position2: 2\n",
      "IN row2_position2: 7\n"
     ]
    }
   ],
   "source": [
    "var4=np.array([[1,2,3],[6,7,8]])\n",
    "print(var4)\n",
    "print(var4.ndim)\n",
    "print('IN row1_position2:',var4[0,-2]) # variable[index_of_row,index_of_value]\n",
    "print('IN row2_position2:',var4[1,1])\n"
   ]
  },
  {
   "cell_type": "markdown",
   "id": "250a0da2-4b4b-4690-8dc4-99e55450e986",
   "metadata": {},
   "source": [
    "### 3D Array"
   ]
  },
  {
   "cell_type": "code",
   "execution_count": 55,
   "id": "0cad66ed-d543-44eb-a7ff-716e2825ebb4",
   "metadata": {},
   "outputs": [
    {
     "name": "stdout",
     "output_type": "stream",
     "text": [
      "[[[ 1  2  3]\n",
      "  [ 4  5  6]]\n",
      "\n",
      " [[ 7  8  9]\n",
      "  [10 11 12]]]\n",
      "3\n",
      "IN 2D1_row2_position2: 5\n",
      "IN 2D2_row1_position3: 9\n"
     ]
    }
   ],
   "source": [
    "var6=np.array([1,2,3,4,5,6,7,8,9,10,11,12])\n",
    "var5=var6.reshape(2,2,3)\n",
    "print(var5)\n",
    "print(var5.ndim)\n",
    "print('IN 2D1_row2_position2:',var5[0,1,1]) # variable[index_of_2D,index_of_row,index_of_value]\n",
    "print('IN 2D2_row1_position3:',var5[1,0,-1])"
   ]
  },
  {
   "cell_type": "code",
   "execution_count": 59,
   "id": "d3f2f723-a0fe-4c7b-9cb0-80e337852efa",
   "metadata": {},
   "outputs": [
    {
     "name": "stdout",
     "output_type": "stream",
     "text": [
      "[[[1 2]\n",
      "  [3 4]]\n",
      "\n",
      " [[5 6]\n",
      "  [7 8]]]\n",
      "3\n",
      "IN 2D1_row2_position2: 4\n",
      "IN 2D2_row1_position1: 5\n"
     ]
    }
   ],
   "source": [
    "var7=np.array([[[1,2],[3,4]],[[5,6],[7,8]]])\n",
    "print(var7)\n",
    "print(var7.ndim)\n",
    "print('IN 2D1_row2_position2:',var7[0,1,1]) # variable[index_of_2D,index_of_row,index_of_value]\n",
    "print('IN 2D2_row1_position1:',var7[1,0,0])\n"
   ]
  },
  {
   "cell_type": "markdown",
   "id": "732cdc4c-ecbf-4402-93e6-53685657d6dd",
   "metadata": {},
   "source": [
    "# SLICING"
   ]
  },
  {
   "cell_type": "markdown",
   "id": "88fa9f93-3e64-41b2-8d07-6dead3906dc6",
   "metadata": {},
   "source": [
    "### 1D Array"
   ]
  },
  {
   "cell_type": "code",
   "execution_count": 14,
   "id": "67658de0-c393-4b83-811c-6f553364f128",
   "metadata": {},
   "outputs": [
    {
     "name": "stdout",
     "output_type": "stream",
     "text": [
      "[1 2 3 4 5 6 7]\n",
      "\n",
      "2 to 5: [2 3 4 5]\n",
      "\n",
      "2 to end: [2 3 4 5 6 7]\n",
      "\n",
      "start to 5: [1 2 3 4 5]\n",
      "\n",
      "start to end,step 2: [1 3 5 7]\n",
      "\n",
      "reverse: [7 6 5 4 3 2 1]\n"
     ]
    }
   ],
   "source": [
    "import numpy as np\n",
    "var=np.array([1,2,3,4,5,6,7])\n",
    "            # 0 1 2 3 4 5 6\n",
    "print(var)\n",
    "print()\n",
    "print('2 to 5:',var[1:5]) # variable[index of start:index of end + 1:step]\n",
    "print()\n",
    "print('2 to end:',var[1:])\n",
    "print()\n",
    "print('start to 5:',var[:-2])\n",
    "print()\n",
    "print('start to end,step 2:',var[::2])\n",
    "print()\n",
    "print('reverse:',var[::-1])"
   ]
  },
  {
   "cell_type": "code",
   "execution_count": 20,
   "id": "aa979b07-3003-4584-843b-3855fe8651ce",
   "metadata": {},
   "outputs": [
    {
     "name": "stdout",
     "output_type": "stream",
     "text": [
      "[[ 1  2  3  4  5]\n",
      " [ 9  8  7  6  5]\n",
      " [11 12 13 14 15]]\n",
      "\n",
      "8 to 6 of row2: [8 7 6]\n",
      "\n",
      "14 to 12 of row3: [14 13 12]\n"
     ]
    }
   ],
   "source": [
    "var1=np.array([[1,2,3,4,5],[9,8,7,6,5],[11,12,13,14,15]])\n",
    "print(var1)\n",
    "print()\n",
    "print('8 to 6 of row2:',var1[1,1:4])\n",
    "print()\n",
    "print('14 to 12 of row3:',var1[2,-2:0:-1]) # variable[index of row,index of start : index of end +(-1):step(-1)]\n"
   ]
  },
  {
   "cell_type": "markdown",
   "id": "f8fbddb2-e4f5-4db0-a754-1f73986ff1e2",
   "metadata": {},
   "source": [
    "# ITERATING\n",
    "### 1D Array"
   ]
  },
  {
   "cell_type": "code",
   "execution_count": 24,
   "id": "35cd5ec5-e6ac-465e-b7b3-a3b19614f96b",
   "metadata": {},
   "outputs": [
    {
     "name": "stdout",
     "output_type": "stream",
     "text": [
      "[1 2 3 4]\n",
      "\n",
      "1\n",
      "2\n",
      "3\n",
      "4\n"
     ]
    }
   ],
   "source": [
    "var=np.array([1,2,3,4])\n",
    "print(var)\n",
    "print()\n",
    "for i in var:\n",
    "    print(i)"
   ]
  },
  {
   "cell_type": "markdown",
   "id": "1be2cb18-2d8c-4858-a41d-de5a1f606ad5",
   "metadata": {},
   "source": [
    "### 2D Array"
   ]
  },
  {
   "cell_type": "code",
   "execution_count": 27,
   "id": "387efa32-8df7-4db2-9aa6-5dea117e56e0",
   "metadata": {},
   "outputs": [
    {
     "name": "stdout",
     "output_type": "stream",
     "text": [
      "[[1 2 3 4]\n",
      " [5 6 7 8]]\n",
      "\n",
      "1\n",
      "2\n",
      "3\n",
      "4\n",
      "5\n",
      "6\n",
      "7\n",
      "8\n"
     ]
    }
   ],
   "source": [
    "var1=np.array([[1,2,3,4],[5,6,7,8]])\n",
    "print(var1)\n",
    "print()\n",
    "for i in var1:\n",
    "    for j in i:\n",
    "        print(j)"
   ]
  },
  {
   "cell_type": "markdown",
   "id": "c6e4d686-0dc2-46b9-b1a5-739ce0ed43b2",
   "metadata": {},
   "source": [
    "### 3D Array"
   ]
  },
  {
   "cell_type": "code",
   "execution_count": 31,
   "id": "68fab46a-6844-4441-91d4-da2eecd3bd68",
   "metadata": {},
   "outputs": [
    {
     "name": "stdout",
     "output_type": "stream",
     "text": [
      "[[[1 2]\n",
      "  [3 4]]\n",
      "\n",
      " [[5 6]\n",
      "  [7 8]]]\n",
      "dimension: 3\n",
      "\n",
      "1\n",
      "2\n",
      "3\n",
      "4\n",
      "5\n",
      "6\n",
      "7\n",
      "8\n"
     ]
    }
   ],
   "source": [
    "var3=np.array([[[1,2],[3,4]],[[5,6],[7,8]]])\n",
    "print(var3)\n",
    "print('dimension:',var3.ndim)\n",
    "print()\n",
    "for i in var3:\n",
    "    for j in i:\n",
    "        for k in j:\n",
    "            print(k)\n",
    "    "
   ]
  },
  {
   "cell_type": "markdown",
   "id": "a8747b33-735b-4fb3-857f-80555f059049",
   "metadata": {},
   "source": [
    "## INERATION USING FUNCTION\n",
    "### np.nditer(variable)"
   ]
  },
  {
   "cell_type": "code",
   "execution_count": 47,
   "id": "90515265-1a9a-44f5-903b-40488184b635",
   "metadata": {},
   "outputs": [
    {
     "name": "stdout",
     "output_type": "stream",
     "text": [
      "[[[1 2]\n",
      "  [3 4]]\n",
      "\n",
      " [[5 6]\n",
      "  [7 8]]]\n",
      "dimension: 3\n",
      "\n",
      "1\n",
      "2\n",
      "3\n",
      "4\n",
      "5\n",
      "6\n",
      "7\n",
      "8\n"
     ]
    }
   ],
   "source": [
    "var3=np.array([[[1,2],[3,4]],[[5,6],[7,8]]])\n",
    "print(var3)\n",
    "print('dimension:',var3.ndim)\n",
    "print()\n",
    "for i in np.nditer(var3): # iteration\n",
    "    print(i)"
   ]
  },
  {
   "cell_type": "markdown",
   "id": "a00bcc94-735c-4a0b-b1be-32f50c92d1f2",
   "metadata": {},
   "source": [
    "### np.ndenumerate(variable)"
   ]
  },
  {
   "cell_type": "code",
   "execution_count": 45,
   "id": "90b30fcb-6552-4bc5-b200-e29a6aabf27f",
   "metadata": {},
   "outputs": [
    {
     "name": "stdout",
     "output_type": "stream",
     "text": [
      "[[[1 2]\n",
      "  [3 4]]\n",
      "\n",
      " [[5 6]\n",
      "  [7 8]]]\n",
      "dimension: 3\n",
      "\n",
      "((0, 0, 0), 1)\n",
      "((0, 0, 1), 2)\n",
      "((0, 1, 0), 3)\n",
      "((0, 1, 1), 4)\n",
      "((1, 0, 0), 5)\n",
      "((1, 0, 1), 6)\n",
      "((1, 1, 0), 7)\n",
      "((1, 1, 1), 8)\n"
     ]
    }
   ],
   "source": [
    "var3=np.array([[[1,2],[3,4]],[[5,6],[7,8]]])\n",
    "print(var3)\n",
    "print('dimension:',var3.ndim) \n",
    "print()\n",
    "for i in np.ndenumerate(var3): # iteration with index number\n",
    "    print(i)"
   ]
  },
  {
   "cell_type": "markdown",
   "id": "d9eec5a3-7e88-492d-8b46-2eea17b79155",
   "metadata": {},
   "source": [
    "# COPY Vs VIEW\n",
    "### The changes made in the copy data do not reflect the original array and vice versa\n",
    "### The changes made in the view would reflect the original array and vice versa"
   ]
  },
  {
   "cell_type": "code",
   "execution_count": 56,
   "id": "56653396-a194-4886-a437-46137ce6f558",
   "metadata": {},
   "outputs": [
    {
     "name": "stdout",
     "output_type": "stream",
     "text": [
      "original array: [1 2 3 4]\n",
      "modified original array: [1 9 3 4]\n",
      "copy: [1 2 3 4]\n",
      "view: [1 9 3 4]\n"
     ]
    }
   ],
   "source": [
    "x = np.array([1,2,3,4])\n",
    "print('original array:',x)\n",
    "co=x.copy()\n",
    "vi=x.view()\n",
    "x[1]=9\n",
    "print('modified original array:',x)\n",
    "print('copy:',co)\n",
    "print('view:',vi)"
   ]
  },
  {
   "cell_type": "markdown",
   "id": "546176c1-3787-40de-a2c9-5ca4833a487d",
   "metadata": {},
   "source": [
    "# JOIN ARRAY\n",
    "## np.concatenate((variable1,variable2),axis=0/1)"
   ]
  },
  {
   "cell_type": "markdown",
   "id": "d58bfee4-4a99-48d2-9880-536538a5991d",
   "metadata": {},
   "source": [
    "### 1D Array"
   ]
  },
  {
   "cell_type": "code",
   "execution_count": 5,
   "id": "0cbe1389-f7c7-4931-9c70-7b18670b2155",
   "metadata": {},
   "outputs": [
    {
     "name": "stdout",
     "output_type": "stream",
     "text": [
      "join: [1 2 3 4 9 8 7 6]\n"
     ]
    }
   ],
   "source": [
    "import numpy as np\n",
    "var=np.array([1,2,3,4])\n",
    "var1=np.array([9,8,7,6])\n",
    "print('join:',np.concatenate((var,var1)))"
   ]
  },
  {
   "cell_type": "markdown",
   "id": "c61ab016-1f8f-465b-b281-39208ce5af64",
   "metadata": {},
   "source": [
    "### 2D Array"
   ]
  },
  {
   "cell_type": "code",
   "execution_count": 24,
   "id": "cef873ee-7bc2-4d63-a3be-936295b6b381",
   "metadata": {},
   "outputs": [
    {
     "name": "stdout",
     "output_type": "stream",
     "text": [
      "[[1 2 9 8]\n",
      " [3 4 7 6]]\n"
     ]
    }
   ],
   "source": [
    "vr=np.array([[1,2],[3,4]])\n",
    "vr1=np.array([[9,8],[7,6]])\n",
    "print(np.concatenate((vr,vr1),axis=1)) # axis =1(row) , join the rows of two matrix"
   ]
  },
  {
   "cell_type": "code",
   "execution_count": 22,
   "id": "e406f5b9-8137-424f-a87f-25bc3f34b46b",
   "metadata": {},
   "outputs": [
    {
     "name": "stdout",
     "output_type": "stream",
     "text": [
      "[[1 2]\n",
      " [3 4]\n",
      " [9 8]\n",
      " [7 6]]\n"
     ]
    }
   ],
   "source": [
    "vr=np.array([[1,2],[3,4]])\n",
    "vr1=np.array([[9,8],[7,6]])\n",
    "print(np.concatenate((vr,vr1),axis=0)) # axis= 0(column) , join the columns of two matrix"
   ]
  },
  {
   "cell_type": "markdown",
   "id": "ebf3950a-a5b3-419e-99a7-73ff882cbcb0",
   "metadata": {},
   "source": [
    "## np.stack((variable1,variable2),axis=0/1)[axis = 0 (vstack) ; axis= 1 (dstack)\n",
    "### np.hstack((variable1,variable2)) [merge_row]\n",
    "### np.vstack((variable1,variable2)) [merge_column]\n",
    "### np.dstack((variable1,variable2)) [merge_height]"
   ]
  },
  {
   "cell_type": "code",
   "execution_count": 61,
   "id": "bb306d22-0db1-490c-a774-e90813df2229",
   "metadata": {},
   "outputs": [
    {
     "name": "stdout",
     "output_type": "stream",
     "text": [
      "[[1 2 3 4]\n",
      " [9 8 7 6]]\n",
      "\n",
      "[[1 9]\n",
      " [2 8]\n",
      " [3 7]\n",
      " [4 6]]\n",
      "\n",
      "[1 2 3 4 9 8 7 6]\n",
      "\n",
      "[[1 2 3 4]\n",
      " [9 8 7 6]]\n",
      "\n",
      "[[[1 9]\n",
      "  [2 8]\n",
      "  [3 7]\n",
      "  [4 6]]]\n"
     ]
    }
   ],
   "source": [
    "va=np.array([1,2,3,4])\n",
    "va1=np.array([9,8,7,6])\n",
    "print(np.stack((va,va1),axis=0))\n",
    "print()\n",
    "print(np.stack((va,va1),axis=1))\n",
    "print()\n",
    "print(np.hstack((va,va1)))\n",
    "print()\n",
    "print(np.vstack((va,va1)))\n",
    "print()\n",
    "print(np.dstack((va,va1)))"
   ]
  },
  {
   "cell_type": "markdown",
   "id": "9c5ba115-b644-4df1-b712-54833c200732",
   "metadata": {},
   "source": [
    "# SPLIT ARRAY\n",
    "## 1D Array\n",
    "### np.array_split(variable,no_of_array_created,axis=0/1)"
   ]
  },
  {
   "cell_type": "code",
   "execution_count": 48,
   "id": "75f8081f-f875-498f-9db0-e9a5b48e7366",
   "metadata": {},
   "outputs": [
    {
     "name": "stdout",
     "output_type": "stream",
     "text": [
      "[array([1, 2]), array([3, 4]), array([5]), array([6])]\n",
      "<class 'list'>\n",
      "[1 2]\n"
     ]
    }
   ],
   "source": [
    "v1=np.array([1,2,3,4,5,6])\n",
    "arr=np.array_split(v1,4)\n",
    "print(arr)\n",
    "print(type(arr))\n",
    "print(arr[0])"
   ]
  },
  {
   "cell_type": "markdown",
   "id": "4165b547-ddc0-43a2-9bd8-ec5ca6a9217e",
   "metadata": {},
   "source": [
    "## 2D Array"
   ]
  },
  {
   "cell_type": "code",
   "execution_count": 69,
   "id": "5915c2d2-efd5-4fe0-be01-29f9f8ccdcd5",
   "metadata": {},
   "outputs": [
    {
     "name": "stdout",
     "output_type": "stream",
     "text": [
      "[array([[ 1,  2,  9],\n",
      "       [ 3,  4, 10]]), array([[ 5,  6, 11]]), array([[ 7,  8, 12]])]\n",
      "[array([[1],\n",
      "       [3],\n",
      "       [5],\n",
      "       [7]]), array([[2],\n",
      "       [4],\n",
      "       [6],\n",
      "       [8]]), array([[ 9],\n",
      "       [10],\n",
      "       [11],\n",
      "       [12]])]\n"
     ]
    }
   ],
   "source": [
    "v1=np.array([[1,2,9],[3,4,10],[5,6,11],[7,8,12]])\n",
    "arr=np.array_split(v1,3)\n",
    "arr1=np.array_split(v1,3,axis=1)\n",
    "print(arr)\n",
    "print(arr1)"
   ]
  },
  {
   "cell_type": "markdown",
   "id": "11a673c0-6d9b-4a12-acb6-d68cea2c393a",
   "metadata": {},
   "source": [
    "# SEARCH"
   ]
  },
  {
   "cell_type": "code",
   "execution_count": 6,
   "id": "86dc5072-d6a9-48ce-9b1e-d1dcc71b793d",
   "metadata": {},
   "outputs": [
    {
     "name": "stdout",
     "output_type": "stream",
     "text": [
      "(array([1, 4, 7], dtype=int64),)\n",
      "(array([0, 1, 4, 6, 7, 9], dtype=int64),)\n"
     ]
    }
   ],
   "source": [
    "import numpy as np\n",
    "var=np.array([4,2,1,3,2,7,6,2,9,8])\n",
    "# index       0 1 2 3 4 5 6 7 8 9\n",
    "x= np.where(var==2)\n",
    "print(x)\n",
    "x=np.where(var%2==0)\n",
    "print(x)"
   ]
  },
  {
   "cell_type": "markdown",
   "id": "bc2a2e1e-527d-43b7-86d7-e716598a0b45",
   "metadata": {},
   "source": [
    "# SEARCH SORT ARRAY\n",
    "## search sort function search the index of a sorted array in where a number should placed"
   ]
  },
  {
   "cell_type": "code",
   "execution_count": 28,
   "id": "4ed6fef8-1fd5-405f-9c07-a522d28eda30",
   "metadata": {},
   "outputs": [
    {
     "name": "stdout",
     "output_type": "stream",
     "text": [
      "4\n",
      "[4 6 9]\n",
      "[4 7 9]\n"
     ]
    }
   ],
   "source": [
    "var1=np.array([1,2,3,4,6,7,8,9,10])\n",
    "# index        0 1 2 3 4 5 6 7 8 \n",
    "x1= np.searchsorted(var1,5)\n",
    "print(x1)\n",
    "x2=np.searchsorted(var1,[5,8,11])\n",
    "print(x2)\n",
    "x3=np.searchsorted(var1,[5,8,11],side='right') # side = lef/right (if has dulplicate where you insert the duplicate\n",
    "                                                                # in right or left)\n",
    "print(x3)"
   ]
  },
  {
   "cell_type": "markdown",
   "id": "414b3eef-ca03-42ab-afcd-052f58ece280",
   "metadata": {},
   "source": [
    "# SORT ARRAY"
   ]
  },
  {
   "cell_type": "code",
   "execution_count": 35,
   "id": "04d85bb8-2673-4fa6-96d8-bc4256c5550c",
   "metadata": {},
   "outputs": [
    {
     "name": "stdout",
     "output_type": "stream",
     "text": [
      "1D array: [ 1  2  3  4  6  7  8  9 12]\n"
     ]
    }
   ],
   "source": [
    "var_1=np.array([4,2,1,3,12,7,6,9,8])\n",
    "print('1D array:',np.sort(var_1))"
   ]
  },
  {
   "cell_type": "code",
   "execution_count": 39,
   "id": "05e5d2e5-6547-4c20-a420-97b0407ca953",
   "metadata": {},
   "outputs": [
    {
     "name": "stdout",
     "output_type": "stream",
     "text": [
      "2D array: [[ 1  2  4]\n",
      " [ 3  7 12]\n",
      " [ 6  8  9]]\n"
     ]
    }
   ],
   "source": [
    "var_21=np.array([[4,2,1],[3,12,7],[6,9,8]])\n",
    "print('2D array:',np.sort(var_21))"
   ]
  },
  {
   "cell_type": "markdown",
   "id": "3bd5cd61-f905-4812-84c5-ebf1207af72d",
   "metadata": {},
   "source": [
    "# FILTER ARRAY"
   ]
  },
  {
   "cell_type": "code",
   "execution_count": 46,
   "id": "93af851e-cd2b-43a9-aa80-a7d709b1dfb6",
   "metadata": {},
   "outputs": [
    {
     "name": "stdout",
     "output_type": "stream",
     "text": [
      "['a' 'd']\n"
     ]
    }
   ],
   "source": [
    "va=np.array(['a','c','b','d'])\n",
    "f=[True,False,False,True]\n",
    "new_f=va[f]\n",
    "print(new_f)"
   ]
  },
  {
   "cell_type": "markdown",
   "id": "092dce99-ccd9-492b-bfda-97e136be08d9",
   "metadata": {},
   "source": [
    "# NUMPY ARRAY FUNCTION\n",
    "## SHUFFLE"
   ]
  },
  {
   "cell_type": "code",
   "execution_count": 10,
   "id": "885a8611-e302-4706-83f4-e5bd3a572383",
   "metadata": {},
   "outputs": [
    {
     "name": "stdout",
     "output_type": "stream",
     "text": [
      "[3 2 1 4]\n"
     ]
    }
   ],
   "source": [
    "import numpy as np\n",
    "var=np.array([1,2,3,4])\n",
    "np.random.shuffle(var)\n",
    "print(var)"
   ]
  },
  {
   "cell_type": "markdown",
   "id": "b09b6218-0124-434f-9c4b-39f0a95536e8",
   "metadata": {},
   "source": [
    "## UNIQUE"
   ]
  },
  {
   "cell_type": "code",
   "execution_count": 21,
   "id": "6def79c2-2387-44e3-98b8-c9ec881bd623",
   "metadata": {},
   "outputs": [
    {
     "name": "stdout",
     "output_type": "stream",
     "text": [
      "(array([1, 2, 3, 4, 5, 6, 7, 8]), array([ 0,  1,  3,  2,  5,  8,  7, 12], dtype=int64), array([1, 3, 3, 2, 1, 1, 1, 1], dtype=int64))\n"
     ]
    }
   ],
   "source": [
    "var1=np.array([1,2,4,3,2,5,3,7,6,4,3,2,8])\n",
    "x1=np.unique(var1,return_index=True,return_counts=True) # return_index=True(show the index of the unique values)\n",
    "                                                        # return_counts=True(show the count of the values)\n",
    "print(x1)"
   ]
  },
  {
   "cell_type": "markdown",
   "id": "dd064a2b-d542-488b-a53f-3464044e8aa2",
   "metadata": {},
   "source": [
    "## RESIZE,FLATTEN,RAVEL"
   ]
  },
  {
   "cell_type": "code",
   "execution_count": 4,
   "id": "89f4905f-3f3a-4ad5-bff8-95d5a637adc1",
   "metadata": {},
   "outputs": [
    {
     "name": "stdout",
     "output_type": "stream",
     "text": [
      "resize:\n",
      "[[1 2 4]\n",
      " [3 5 6]]\n",
      "\n",
      "Flatten: [1 2 4 3 5 6]\n",
      "Flatten: [1 3 2 5 4 6]\n",
      "Ravel: [1 2 4 3 5 6]\n",
      "Ravel: [1 2 4 3 5 6]\n"
     ]
    }
   ],
   "source": [
    "import numpy as np\n",
    "var2=np.array([1,2,4,3,5,6])\n",
    "y=np.resize(var2,(2,3))\n",
    "print('resize:')\n",
    "print(y)\n",
    "print()\n",
    "print('Flatten:',y.flatten())\n",
    "print('Flatten:',y.flatten(order=\"F\"))\n",
    "print('Ravel:',y.ravel(order=\"A\"))\n",
    "print('Ravel:',y.ravel(order=\"K\"))\n"
   ]
  },
  {
   "cell_type": "markdown",
   "id": "7a8c5394-e20d-4239-87fc-1f23fb4a4792",
   "metadata": {},
   "source": [
    "# INSERT , APPEND\n",
    "## 1D Array"
   ]
  },
  {
   "cell_type": "code",
   "execution_count": 47,
   "id": "9acbd1c0-7f57-4cc4-a0b6-3dd7b55221df",
   "metadata": {},
   "outputs": [
    {
     "name": "stdout",
     "output_type": "stream",
     "text": [
      "INSERT:\n",
      "[ 1  2 40  3  4]\n",
      "\n",
      "[ 1  2 40  3  4 50]\n",
      "\n",
      "APPEND:\n",
      "[1 2 3 4 5]\n"
     ]
    }
   ],
   "source": [
    "import numpy as np\n",
    "var=np.array([1,2,3,4])\n",
    "v=np.insert(var,2,40)      # np.insert(variable,position_index,value)\n",
    "print('INSERT:')\n",
    "print(v)\n",
    "print()\n",
    "v=np.insert(var,(2,4),(40,50))\n",
    "print(v)\n",
    "print()\n",
    "x=np.append(var,5)\n",
    "print('APPEND:')\n",
    "print(x)"
   ]
  },
  {
   "cell_type": "markdown",
   "id": "aa4083f8-4437-4c7c-acf3-e1c1e8075bd7",
   "metadata": {},
   "source": [
    "## 2D Array"
   ]
  },
  {
   "cell_type": "code",
   "execution_count": 61,
   "id": "e4a45e5e-a962-499e-85d0-d0912f695136",
   "metadata": {},
   "outputs": [
    {
     "name": "stdout",
     "output_type": "stream",
     "text": [
      "INSERT:\n",
      "[[ 1  2  3  4]\n",
      " [40 50 60 70]\n",
      " [ 5  6  7  8]]\n",
      "\n",
      "[[ 1  2 40  3  4]\n",
      " [ 5  6 50  7  8]]\n",
      "\n",
      "APPEND:\n",
      "[[ 1  2  3  4]\n",
      " [ 5  6  7  8]\n",
      " [ 9 10 11 12]]\n"
     ]
    }
   ],
   "source": [
    "var1=np.array([[1,2,3,4],[5,6,7,8]])\n",
    "v1=np.insert(var1,1,(40,50,60,70),axis=0)     # np.insert(variable,position_index(row/column),value,axis=0(row))\n",
    "print('INSERT:')\n",
    "print(v1)\n",
    "print()\n",
    "v1=np.insert(var1,2,(40,50),axis=1)     # np.insert(variable,position_index(row/column),value,axis=1(column))\n",
    "print(v1)\n",
    "print()\n",
    "x1=np.append(var1,[[9,10,11,12]],axis=0)\n",
    "print('APPEND:')\n",
    "print(x1)"
   ]
  },
  {
   "cell_type": "markdown",
   "id": "65c49da8-ba2b-4817-a1f6-268cbbe1418a",
   "metadata": {},
   "source": [
    "# Delete\n",
    "## 1D Array"
   ]
  },
  {
   "cell_type": "code",
   "execution_count": 5,
   "id": "d96d9793-47b3-467d-b7b1-9574f04bf648",
   "metadata": {},
   "outputs": [
    {
     "name": "stdout",
     "output_type": "stream",
     "text": [
      "[1 2 3 4]\n",
      "[1 2 4]\n"
     ]
    }
   ],
   "source": [
    "import numpy as np\n",
    "var=np.array([1,2,3,4])\n",
    "print(var)\n",
    "print()\n",
    "d=np.delete(var,2)\n",
    "print(d)"
   ]
  },
  {
   "cell_type": "markdown",
   "id": "690c3f21-7c22-4bf0-8372-df7556200ba5",
   "metadata": {},
   "source": [
    "## 2D Array"
   ]
  },
  {
   "cell_type": "code",
   "execution_count": 18,
   "id": "03b64810-6863-4d0a-bed8-cf97321978ca",
   "metadata": {},
   "outputs": [
    {
     "name": "stdout",
     "output_type": "stream",
     "text": [
      "[[1 2 3 4]\n",
      " [5 6 7 8]]\n",
      "\n",
      "[[1 2 4]\n",
      " [5 6 8]]\n"
     ]
    }
   ],
   "source": [
    "var1=np.array([[1,2,3,4],[5,6,7,8]])\n",
    "print(var1)\n",
    "print()\n",
    "d=np.delete(var1,2,1)  # np.delete(variable,index,axis)\n",
    "print(d)"
   ]
  },
  {
   "cell_type": "markdown",
   "id": "7a8af48b-4585-4264-9dcf-cc203d81b116",
   "metadata": {},
   "source": [
    "# MATRIX\n",
    "### Matrix and Array multiplication is not same"
   ]
  },
  {
   "cell_type": "code",
   "execution_count": 37,
   "id": "c898810b-be49-46cb-b422-4c890c64f45a",
   "metadata": {},
   "outputs": [
    {
     "name": "stdout",
     "output_type": "stream",
     "text": [
      "<class 'numpy.matrix'>\n",
      "[[1 2]\n",
      " [4 5]]\n",
      "\n",
      "[[ 9 12]\n",
      " [24 33]]\n"
     ]
    }
   ],
   "source": [
    "va=np.matrix([[1,2],[4,5]])\n",
    "va1=np.matrix([[1,2],[4,5]])\n",
    "print(type(va))\n",
    "print(va)\n",
    "print()\n",
    "m=va.dot(va1) # matrix multiplication\n",
    "print(m)"
   ]
  },
  {
   "cell_type": "code",
   "execution_count": 39,
   "id": "f8a25a9e-d306-4ebc-9b13-1444f7f21e0d",
   "metadata": {},
   "outputs": [
    {
     "name": "stdout",
     "output_type": "stream",
     "text": [
      "<class 'numpy.ndarray'>\n",
      "[[1 2]\n",
      " [4 5]]\n",
      "\n",
      "[[ 1  4]\n",
      " [16 25]]\n"
     ]
    }
   ],
   "source": [
    "va2=np.array([[1,2],[4,5]])\n",
    "va3=np.array([[1,2],[4,5]])\n",
    "print(type(va2))\n",
    "print(va2)\n",
    "print()\n",
    "m1=va2*va3   # Array multiplication\n",
    "print(m1)"
   ]
  },
  {
   "cell_type": "markdown",
   "id": "d34feaf2-8fad-4bcc-9e64-2f6bc2292501",
   "metadata": {},
   "source": [
    "# MATRIX FUNCTION\n",
    "### (Transpose,Swapaxes,Inverse,Power,Determinate)"
   ]
  },
  {
   "cell_type": "code",
   "execution_count": 46,
   "id": "e361c6c1-a29c-45c3-b498-34ea2c704766",
   "metadata": {},
   "outputs": [
    {
     "name": "stdout",
     "output_type": "stream",
     "text": [
      "[[1 2 3]\n",
      " [4 5 6]\n",
      " [7 8 9]]\n",
      "\n",
      "[[1 4 7]\n",
      " [2 5 8]\n",
      " [3 6 9]]\n",
      "\n",
      "[[1 4 7]\n",
      " [2 5 8]\n",
      " [3 6 9]]\n"
     ]
    }
   ],
   "source": [
    "v=np.matrix([[1,2,3],[4,5,6],[7,8,9]])\n",
    "print(v)\n",
    "print()\n",
    "print(np.transpose(v))\n",
    "print()\n",
    "print(v.T)"
   ]
  },
  {
   "cell_type": "code",
   "execution_count": 60,
   "id": "b7c57035-03fe-43c3-9c6c-87256615716d",
   "metadata": {},
   "outputs": [
    {
     "name": "stdout",
     "output_type": "stream",
     "text": [
      "[[1 2 3]\n",
      " [4 5 6]\n",
      " [7 8 9]]\n",
      "\n",
      "[[1 4 7]\n",
      " [2 5 8]\n",
      " [3 6 9]]\n",
      "\n",
      "[[[0 4]\n",
      "  [2 6]]\n",
      "\n",
      " [[1 5]\n",
      "  [3 7]]]\n"
     ]
    }
   ],
   "source": [
    "v1=np.matrix([[1,2,3],[4,5,6],[7,8,9]])\n",
    "print(v1)\n",
    "print()\n",
    "print(np.swapaxes(v1,0,1))       # 2D matrix -> np.swapaxes(variable,axis_first,axis_second)\n",
    "v2=np.array([[[0, 1], [2, 3]], [[4, 5], [6, 7]]])\n",
    "print()\n",
    "print(np.swapaxes(v2,0,2))       # 3D array -> np.swapaxes(variable,axis_first,axis_second)"
   ]
  },
  {
   "cell_type": "code",
   "execution_count": 65,
   "id": "e9c94d53-d0a0-4591-ba41-717c135c3ae4",
   "metadata": {},
   "outputs": [
    {
     "name": "stdout",
     "output_type": "stream",
     "text": [
      "[[1 2]\n",
      " [3 4]]\n",
      "\n",
      "[[-2.   1. ]\n",
      " [ 1.5 -0.5]]\n"
     ]
    }
   ],
   "source": [
    "v3=np.matrix([[1,2],[3,4]])\n",
    "print(v3)\n",
    "print()\n",
    "print(np.linalg.inv(v3))"
   ]
  },
  {
   "cell_type": "code",
   "execution_count": 67,
   "id": "02f294a1-07de-44d6-9f70-d4cd4b6eeb1f",
   "metadata": {},
   "outputs": [
    {
     "name": "stdout",
     "output_type": "stream",
     "text": [
      "[[1 2]\n",
      " [3 4]]\n",
      "\n",
      "[[1 0]\n",
      " [0 1]]\n",
      "\n",
      "[[ 7 10]\n",
      " [15 22]]\n",
      "\n",
      "[[ 5.5  -2.5 ]\n",
      " [-3.75  1.75]]\n"
     ]
    }
   ],
   "source": [
    "v4=np.matrix([[1,2],[3,4]])\n",
    "print(v4)\n",
    "print()\n",
    "print(np.linalg.matrix_power(v4,0))  # Identity matrix -> np.linalg.matrix_power(variable,n=0)\n",
    "print()\n",
    "print(np.linalg.matrix_power(v4,2))  # Power matrix(v4*v4) -> np.linalg.matrix_power(variable,n>0)\n",
    "print()\n",
    "print(np.linalg.matrix_power(v4,-2)) # (Inverse * Power) matrix -> np.linalg.matrix_power(variable,n<0)\n"
   ]
  },
  {
   "cell_type": "code",
   "execution_count": 75,
   "id": "be980502-3fc9-4092-8c9e-bd1a87d026f1",
   "metadata": {},
   "outputs": [
    {
     "name": "stdout",
     "output_type": "stream",
     "text": [
      "[[1 2 3]\n",
      " [3 4 3]\n",
      " [1 2 3]]\n",
      "\n",
      "9.148237722911273e-15\n",
      "\n",
      "0.0\n"
     ]
    }
   ],
   "source": [
    "v5=np.matrix([[1,2,3],[3,4,3],[1,2,3]])\n",
    "print(v5)\n",
    "print()\n",
    "v51=np.matrix([[1,2,7],[3,4,8],[5,6,9]])\n",
    "print(np.linalg.det(v51))\n",
    "print()\n",
    "print(np.linalg.det(v5))"
   ]
  },
  {
   "cell_type": "code",
   "execution_count": null,
   "id": "b85a1fa5-baba-450a-9968-ddbad5577bc1",
   "metadata": {},
   "outputs": [],
   "source": []
  }
 ],
 "metadata": {
  "kernelspec": {
   "display_name": "Python 3 (ipykernel)",
   "language": "python",
   "name": "python3"
  },
  "language_info": {
   "codemirror_mode": {
    "name": "ipython",
    "version": 3
   },
   "file_extension": ".py",
   "mimetype": "text/x-python",
   "name": "python",
   "nbconvert_exporter": "python",
   "pygments_lexer": "ipython3",
   "version": "3.12.4"
  }
 },
 "nbformat": 4,
 "nbformat_minor": 5
}
