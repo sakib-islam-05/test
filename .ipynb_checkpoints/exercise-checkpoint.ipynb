{
 "cells": [
  {
   "cell_type": "code",
   "execution_count": 1,
   "id": "e1d428d1-5564-4633-9959-2a5c23c9a12b",
   "metadata": {},
   "outputs": [],
   "source": [
    "import numpy as np"
   ]
  },
  {
   "cell_type": "markdown",
   "id": "5df874e2-11b2-49a1-8861-62960cb22861",
   "metadata": {},
   "source": [
    "### condition"
   ]
  },
  {
   "cell_type": "code",
   "execution_count": 9,
   "id": "63a410cd-a489-43ef-a98e-f896286c6e85",
   "metadata": {},
   "outputs": [
    {
     "data": {
      "text/plain": [
       "array([ 0, -1,  2, -1,  4, -1,  6, -1,  8, -1])"
      ]
     },
     "execution_count": 9,
     "metadata": {},
     "output_type": "execute_result"
    }
   ],
   "source": [
    "arr=np.arange(10)\n",
    "out=np.where(arr%2==1,-1,arr) # np.where(condition,if true,else)\n",
    "out"
   ]
  },
  {
   "cell_type": "code",
   "execution_count": 14,
   "id": "9add2fcd-6eba-4385-af3a-14c0fb013693",
   "metadata": {},
   "outputs": [],
   "source": [
    "arr1=np.reshape(arr,(2,5))"
   ]
  },
  {
   "cell_type": "code",
   "execution_count": 16,
   "id": "1a3236b0-289c-4e91-8259-930a6c98c764",
   "metadata": {},
   "outputs": [
    {
     "data": {
      "text/plain": [
       "array([[0, 1, 2, 3, 4],\n",
       "       [5, 6, 7, 8, 9]])"
      ]
     },
     "execution_count": 16,
     "metadata": {},
     "output_type": "execute_result"
    }
   ],
   "source": [
    "arr1"
   ]
  },
  {
   "cell_type": "code",
   "execution_count": 24,
   "id": "79d1609f-6b32-4133-8c48-dc4cc679641b",
   "metadata": {},
   "outputs": [
    {
     "data": {
      "text/plain": [
       "array([[0, 1, 2, 3, 4],\n",
       "       [5, 6, 7, 8, 9],\n",
       "       [1, 1, 1, 1, 1],\n",
       "       [1, 1, 1, 1, 1]])"
      ]
     },
     "execution_count": 24,
     "metadata": {},
     "output_type": "execute_result"
    }
   ],
   "source": [
    "a = np.arange(10).reshape(2,-1)\n",
    "b = np.repeat(1, 10).reshape(2,-1)\n",
    "c=np.vstack((a,b))\n",
    "c"
   ]
  },
  {
   "cell_type": "code",
   "execution_count": 42,
   "id": "058a0ff4-d483-4855-98cc-54fdbdfd45b6",
   "metadata": {},
   "outputs": [],
   "source": [
    "a=np.linspace(2,10,num=5,dtype='int32')\n",
    "b=np.linspace(6,12,num=4,dtype='int32')\n",
    "c=np.intersect1d(a,b,return_indices=True)"
   ]
  },
  {
   "cell_type": "code",
   "execution_count": 44,
   "id": "5b7fce18-a308-41eb-9a43-ab718380af37",
   "metadata": {},
   "outputs": [
    {
     "data": {
      "text/plain": [
       "(array([ 6,  8, 10]),\n",
       " array([2, 3, 4], dtype=int64),\n",
       " array([0, 1, 2], dtype=int64))"
      ]
     },
     "execution_count": 44,
     "metadata": {},
     "output_type": "execute_result"
    }
   ],
   "source": [
    "c"
   ]
  },
  {
   "cell_type": "code",
   "execution_count": 58,
   "id": "cdb907bb-f5fd-4dc5-bc30-d5fda25d3c7d",
   "metadata": {},
   "outputs": [
    {
     "data": {
      "text/plain": [
       "array([ 6,  8, 10])"
      ]
     },
     "execution_count": 58,
     "metadata": {},
     "output_type": "execute_result"
    }
   ],
   "source": [
    "d=np.arange(2,19,2)\n",
    "index=np.where((d>=5) & (d<=10))\n",
    "d[index]"
   ]
  },
  {
   "cell_type": "code",
   "execution_count": 16,
   "id": "d921b501-8a4b-4217-9e83-707197a7acbc",
   "metadata": {},
   "outputs": [
    {
     "name": "stdout",
     "output_type": "stream",
     "text": [
      "[2. 5. 6. 9.]\n"
     ]
    }
   ],
   "source": [
    "import numpy as np\n",
    "def maxx(a,b):\n",
    "    if a>b:\n",
    "        return a\n",
    "    else:\n",
    "        return b \n",
    "result=np.vectorize(maxx,otypes=[float]) # similar to map \n",
    "print(result([2,4,6,8],[1,5,4,9]))"
   ]
  },
  {
   "cell_type": "markdown",
   "id": "1e7e6bf1-b70d-4d17-aa73-7b2c409d4ae8",
   "metadata": {},
   "source": [
    "## swap column"
   ]
  },
  {
   "cell_type": "code",
   "execution_count": 23,
   "id": "7c3e6b6c-f925-4e66-a959-6eaa748e13d9",
   "metadata": {},
   "outputs": [
    {
     "name": "stdout",
     "output_type": "stream",
     "text": [
      "[[0 1 2]\n",
      " [3 4 5]\n",
      " [6 7 8]]\n"
     ]
    },
    {
     "data": {
      "text/plain": [
       "array([[1, 0, 2],\n",
       "       [4, 3, 5],\n",
       "       [7, 6, 8]])"
      ]
     },
     "execution_count": 23,
     "metadata": {},
     "output_type": "execute_result"
    }
   ],
   "source": [
    "df=np.arange(9).reshape(3,3)\n",
    "print(df)\n",
    "df[:,(1,0,2)]"
   ]
  },
  {
   "cell_type": "markdown",
   "id": "59b21bfd-cc86-424e-beb2-38a43f9f664f",
   "metadata": {},
   "source": [
    "## swap row"
   ]
  },
  {
   "cell_type": "code",
   "execution_count": 26,
   "id": "91e1e557-bb88-4877-a65f-be968d124d01",
   "metadata": {},
   "outputs": [
    {
     "data": {
      "text/plain": [
       "array([[3, 4, 5],\n",
       "       [0, 1, 2],\n",
       "       [6, 7, 8]])"
      ]
     },
     "execution_count": 26,
     "metadata": {},
     "output_type": "execute_result"
    }
   ],
   "source": [
    "df[(1,0,2),:]"
   ]
  },
  {
   "cell_type": "code",
   "execution_count": 28,
   "id": "44492508-7075-4fde-aaed-eefbd38e03d4",
   "metadata": {},
   "outputs": [
    {
     "data": {
      "text/plain": [
       "array([[6, 7, 8],\n",
       "       [3, 4, 5],\n",
       "       [0, 1, 2]])"
      ]
     },
     "execution_count": 28,
     "metadata": {},
     "output_type": "execute_result"
    }
   ],
   "source": [
    "df[::-1]"
   ]
  },
  {
   "cell_type": "code",
   "execution_count": 34,
   "id": "8a48d971-13bf-4c03-b8ba-ddf7851dfbbd",
   "metadata": {},
   "outputs": [
    {
     "data": {
      "text/plain": [
       "array([[2, 1, 0],\n",
       "       [5, 4, 3],\n",
       "       [8, 7, 6]])"
      ]
     },
     "execution_count": 34,
     "metadata": {},
     "output_type": "execute_result"
    }
   ],
   "source": [
    "df[:,::-1]"
   ]
  },
  {
   "cell_type": "code",
   "execution_count": 40,
   "id": "7d7fed2d-be68-4a9a-9227-735963615b21",
   "metadata": {},
   "outputs": [],
   "source": [
    "df1=np.random.randint(5,10,(5,3))"
   ]
  },
  {
   "cell_type": "code",
   "execution_count": 44,
   "id": "23b78192-c548-4d6c-b871-dcbb0a56bb69",
   "metadata": {},
   "outputs": [
    {
     "data": {
      "text/plain": [
       "array([[9, 9, 8],\n",
       "       [6, 9, 8],\n",
       "       [9, 6, 5],\n",
       "       [6, 6, 9],\n",
       "       [5, 7, 6]])"
      ]
     },
     "execution_count": 44,
     "metadata": {},
     "output_type": "execute_result"
    }
   ],
   "source": [
    "df1"
   ]
  },
  {
   "cell_type": "code",
   "execution_count": 54,
   "id": "905ae7c9-2368-4a6c-9477-cfef62beadfa",
   "metadata": {},
   "outputs": [
    {
     "name": "stdout",
     "output_type": "stream",
     "text": [
      "[0.54340494 0.27836939 0.42451759]\n"
     ]
    }
   ],
   "source": [
    "np.random.seed(100) # seed execute same random number\n",
    "\n",
    "# Generate some random numbers\n",
    "print(np.random.rand(3))"
   ]
  },
  {
   "cell_type": "code",
   "execution_count": null,
   "id": "031d5cae-a6dd-40e0-b331-68fdabf4e921",
   "metadata": {},
   "outputs": [],
   "source": []
  }
 ],
 "metadata": {
  "kernelspec": {
   "display_name": "Python 3 (ipykernel)",
   "language": "python",
   "name": "python3"
  },
  "language_info": {
   "codemirror_mode": {
    "name": "ipython",
    "version": 3
   },
   "file_extension": ".py",
   "mimetype": "text/x-python",
   "name": "python",
   "nbconvert_exporter": "python",
   "pygments_lexer": "ipython3",
   "version": "3.12.4"
  }
 },
 "nbformat": 4,
 "nbformat_minor": 5
}
